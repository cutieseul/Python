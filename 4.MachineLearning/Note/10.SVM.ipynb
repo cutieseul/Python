{
 "cells": [
  {
   "cell_type": "markdown",
   "metadata": {},
   "source": [
    "# SVM(Support Vector Machine)\n",
    "- 퍼포먼스가 떨어짐 => 근접거리끼리 그룹핑하여 계산  \n",
    "- convergence(수렴)해야 hat(Y^)값을 쓸 수 있음"
   ]
  },
  {
   "cell_type": "markdown",
   "metadata": {},
   "source": [
    "### SVM을 활용한 비만도(BMI) 측정 예측\n",
    "- BMI = 몸무게(kg) / 키(m) * 키(m)\n",
    "- BMI가 18.5이상 25미만 표준 몸무게 입니다."
   ]
  },
  {
   "cell_type": "markdown",
   "metadata": {},
   "source": []
  },
  {
   "cell_type": "code",
   "execution_count": 34,
   "metadata": {},
   "outputs": [
    {
     "name": "stdout",
     "output_type": "stream",
     "text": [
      "ok : {'thin': 6346, 'normal': 5952, 'fat': 7702}\n"
     ]
    }
   ],
   "source": [
    "# 데이터를 획득하기 위해 무작위로 2만명 데이터를 생성.\n",
    "# 키(cm),몸무게(kg),Label(제체중(thin),정상체중(normal),비만(fat)의 csv 생성\n",
    "\n",
    "import random\n",
    "\n",
    "# BMI를 계산해서 Label을 return하는 함수\n",
    "def calc_bmi(h,w):\n",
    "    bmi = w / (h/100) **2\n",
    "    if bmi <18.5: return \"thin\"\n",
    "    if bmi <25: return \"normal\"\n",
    "    return \"fat\"\n",
    "# 저장 파일 준비하기\n",
    "fp = open(\"../Data/bmi.csv\",'w',encoding='utf-8')\n",
    "fp.write(\"height,weight,label\\r\\n\") # \\r\\n return newline => \n",
    "\n",
    "# 무작위로 데이터 생성하기\n",
    "cnt = {\"thin\":0,\"normal\":0,\"fat\":0} # 각 분류마다 데이터 세기\n",
    "\n",
    "for i in range(20000):\n",
    "    h = random.randint(120,200)\n",
    "    w = random.randint(35,80)\n",
    "    label = calc_bmi(h,w)\n",
    "    cnt[label] += 1 \n",
    "    fp.write(\"{0},{1},{2}\\r\\n\".format(h,w,label))\n",
    "fp.close()\n",
    "print(\"ok :\",cnt)\n"
   ]
  },
  {
   "cell_type": "markdown",
   "metadata": {},
   "source": [
    "### BMI공식을 사용하지 않고 BMI 예측"
   ]
  },
  {
   "cell_type": "code",
   "execution_count": 35,
   "metadata": {},
   "outputs": [],
   "source": [
    "import pandas as pd"
   ]
  },
  {
   "cell_type": "code",
   "execution_count": 36,
   "metadata": {},
   "outputs": [],
   "source": [
    "# 데이터 불러오기\n",
    "tbl = pd.read_csv(\"../Data/bmi.csv\")\n",
    "# tbl.head()"
   ]
  },
  {
   "cell_type": "code",
   "execution_count": 37,
   "metadata": {},
   "outputs": [
    {
     "data": {
      "text/html": [
       "<div>\n",
       "<style scoped>\n",
       "    .dataframe tbody tr th:only-of-type {\n",
       "        vertical-align: middle;\n",
       "    }\n",
       "\n",
       "    .dataframe tbody tr th {\n",
       "        vertical-align: top;\n",
       "    }\n",
       "\n",
       "    .dataframe thead th {\n",
       "        text-align: right;\n",
       "    }\n",
       "</style>\n",
       "<table border=\"1\" class=\"dataframe\">\n",
       "  <thead>\n",
       "    <tr style=\"text-align: right;\">\n",
       "      <th></th>\n",
       "      <th>height</th>\n",
       "      <th>weight</th>\n",
       "    </tr>\n",
       "  </thead>\n",
       "  <tbody>\n",
       "    <tr>\n",
       "      <th>count</th>\n",
       "      <td>20000.000000</td>\n",
       "      <td>20000.000000</td>\n",
       "    </tr>\n",
       "    <tr>\n",
       "      <th>mean</th>\n",
       "      <td>160.241300</td>\n",
       "      <td>57.817150</td>\n",
       "    </tr>\n",
       "    <tr>\n",
       "      <th>std</th>\n",
       "      <td>23.448287</td>\n",
       "      <td>13.247788</td>\n",
       "    </tr>\n",
       "    <tr>\n",
       "      <th>min</th>\n",
       "      <td>120.000000</td>\n",
       "      <td>35.000000</td>\n",
       "    </tr>\n",
       "    <tr>\n",
       "      <th>25%</th>\n",
       "      <td>140.000000</td>\n",
       "      <td>46.000000</td>\n",
       "    </tr>\n",
       "    <tr>\n",
       "      <th>50%</th>\n",
       "      <td>160.000000</td>\n",
       "      <td>58.000000</td>\n",
       "    </tr>\n",
       "    <tr>\n",
       "      <th>75%</th>\n",
       "      <td>181.000000</td>\n",
       "      <td>69.000000</td>\n",
       "    </tr>\n",
       "    <tr>\n",
       "      <th>max</th>\n",
       "      <td>200.000000</td>\n",
       "      <td>80.000000</td>\n",
       "    </tr>\n",
       "  </tbody>\n",
       "</table>\n",
       "</div>"
      ],
      "text/plain": [
       "             height        weight\n",
       "count  20000.000000  20000.000000\n",
       "mean     160.241300     57.817150\n",
       "std       23.448287     13.247788\n",
       "min      120.000000     35.000000\n",
       "25%      140.000000     46.000000\n",
       "50%      160.000000     58.000000\n",
       "75%      181.000000     69.000000\n",
       "max      200.000000     80.000000"
      ]
     },
     "execution_count": 37,
     "metadata": {},
     "output_type": "execute_result"
    }
   ],
   "source": [
    "# height와 weight의 표준편차가 차이나므로 정규화 필요함\n",
    "tbl.describe()"
   ]
  },
  {
   "cell_type": "code",
   "execution_count": 38,
   "metadata": {},
   "outputs": [],
   "source": [
    "# 컬럼을 분리하여 정규화 하기\n",
    "label = tbl['label']\n",
    "\n",
    "# 각 데이터를 해당 컬럼의 최대값을 나눔 \n",
    "w = tbl['weight']/ 80\n",
    "h = tbl['height']/ 200"
   ]
  },
  {
   "cell_type": "code",
   "execution_count": 39,
   "metadata": {},
   "outputs": [
    {
     "data": {
      "text/html": [
       "<div>\n",
       "<style scoped>\n",
       "    .dataframe tbody tr th:only-of-type {\n",
       "        vertical-align: middle;\n",
       "    }\n",
       "\n",
       "    .dataframe tbody tr th {\n",
       "        vertical-align: top;\n",
       "    }\n",
       "\n",
       "    .dataframe thead th {\n",
       "        text-align: right;\n",
       "    }\n",
       "</style>\n",
       "<table border=\"1\" class=\"dataframe\">\n",
       "  <thead>\n",
       "    <tr style=\"text-align: right;\">\n",
       "      <th></th>\n",
       "      <th>weight</th>\n",
       "      <th>height</th>\n",
       "      <th>label</th>\n",
       "    </tr>\n",
       "  </thead>\n",
       "  <tbody>\n",
       "    <tr>\n",
       "      <th>0</th>\n",
       "      <td>0.5875</td>\n",
       "      <td>0.870</td>\n",
       "      <td>thin</td>\n",
       "    </tr>\n",
       "    <tr>\n",
       "      <th>1</th>\n",
       "      <td>0.9625</td>\n",
       "      <td>0.690</td>\n",
       "      <td>fat</td>\n",
       "    </tr>\n",
       "    <tr>\n",
       "      <th>2</th>\n",
       "      <td>0.5250</td>\n",
       "      <td>0.650</td>\n",
       "      <td>normal</td>\n",
       "    </tr>\n",
       "    <tr>\n",
       "      <th>3</th>\n",
       "      <td>0.4875</td>\n",
       "      <td>0.690</td>\n",
       "      <td>normal</td>\n",
       "    </tr>\n",
       "    <tr>\n",
       "      <th>4</th>\n",
       "      <td>0.9250</td>\n",
       "      <td>0.615</td>\n",
       "      <td>fat</td>\n",
       "    </tr>\n",
       "  </tbody>\n",
       "</table>\n",
       "</div>"
      ],
      "text/plain": [
       "   weight  height   label\n",
       "0  0.5875   0.870    thin\n",
       "1  0.9625   0.690     fat\n",
       "2  0.5250   0.650  normal\n",
       "3  0.4875   0.690  normal\n",
       "4  0.9250   0.615     fat"
      ]
     },
     "execution_count": 39,
     "metadata": {},
     "output_type": "execute_result"
    }
   ],
   "source": [
    "bmi_nor = pd.concat([w,h,label],axis=1)\n",
    "bmi_nor.head()"
   ]
  },
  {
   "cell_type": "code",
   "execution_count": 40,
   "metadata": {},
   "outputs": [],
   "source": [
    "from sklearn.model_selection import train_test_split"
   ]
  },
  {
   "cell_type": "code",
   "execution_count": 41,
   "metadata": {},
   "outputs": [],
   "source": [
    "# 학습용과 훈련용으로 나누기\n",
    "train_data, test_data, train_label, test_label = train_test_split(bmi_nor.iloc[:,:2],bmi_nor.iloc[:,2])"
   ]
  },
  {
   "cell_type": "code",
   "execution_count": 42,
   "metadata": {},
   "outputs": [],
   "source": [
    "from sklearn.svm import SVC\n",
    "\n",
    "model = SVC()"
   ]
  },
  {
   "cell_type": "code",
   "execution_count": 43,
   "metadata": {},
   "outputs": [
    {
     "data": {
      "text/plain": [
       "SVC()"
      ]
     },
     "execution_count": 43,
     "metadata": {},
     "output_type": "execute_result"
    }
   ],
   "source": [
    "# 데이터 학습하기\n",
    "model.fit(train_data,train_label)"
   ]
  },
  {
   "cell_type": "code",
   "execution_count": 44,
   "metadata": {},
   "outputs": [
    {
     "data": {
      "text/plain": [
       "0.9958"
      ]
     },
     "execution_count": 44,
     "metadata": {},
     "output_type": "execute_result"
    }
   ],
   "source": [
    "# 정확도 구하기\n",
    "model.score(test_data,test_label)"
   ]
  },
  {
   "cell_type": "code",
   "execution_count": 45,
   "metadata": {},
   "outputs": [
    {
     "name": "stdout",
     "output_type": "stream",
     "text": [
      "              precision    recall  f1-score   support\n",
      "\n",
      "         fat       1.00      1.00      1.00      1916\n",
      "      normal       0.99      1.00      0.99      1482\n",
      "        thin       1.00      1.00      1.00      1602\n",
      "\n",
      "    accuracy                           1.00      5000\n",
      "   macro avg       1.00      1.00      1.00      5000\n",
      "weighted avg       1.00      1.00      1.00      5000\n",
      "\n"
     ]
    }
   ],
   "source": [
    "# Confusion Matrix 출력하기\n",
    "from sklearn import metrics\n",
    "\n",
    "pred = model.predict(test_data)\n",
    "metrics.confusion_matrix(test_label,pred)\n",
    "print(metrics.classification_report(test_label,pred))"
   ]
  },
  {
   "cell_type": "code",
   "execution_count": 46,
   "metadata": {},
   "outputs": [
    {
     "data": {
      "image/png": "[encoded data removed]",
      "text/plain": [
       "<Figure size 432x288 with 1 Axes>"
      ]
     },
     "metadata": {
      "needs_background": "light"
     },
     "output_type": "display_data"
    }
   ],
   "source": [
    "# 시각화 해보기 \n",
    "import matplotlib.pyplot as plt\n",
    "tbl = pd.read_csv(\"../Data/bmi.csv\",index_col=2)\n",
    "fig = plt.figure()\n",
    "ax = fig.add_subplot(1,1,1)\n",
    "\n",
    "def scatter(lbl,color):\n",
    "    b = tbl.loc[lbl]\n",
    "    ax.scatter(b['weight'],b['height'],c=color,label=lbl)\n",
    "\n",
    "scatter(\"fat\",\"red\")\n",
    "scatter(\"normal\",\"yellow\")\n",
    "scatter(\"thin\",\"purple\")\n",
    "ax.legend()\n",
    "plt.savefig(\"../Data/bmi-test.png\")\n",
    "plt.show()"
   ]
  },
  {
   "cell_type": "markdown",
   "metadata": {},
   "source": [
    "---\n",
    "# SVM의 종류\n",
    "- SVC(Classification)\n",
    "- NuSVC : \"\n",
    "- LinearSVC : SVM중에서 가장 빠름, SVC대비 약 3배정도 빠름"
   ]
  },
  {
   "cell_type": "code",
   "execution_count": 48,
   "metadata": {},
   "outputs": [],
   "source": [
    "from sklearn import svm"
   ]
  },
  {
   "cell_type": "code",
   "execution_count": 49,
   "metadata": {},
   "outputs": [],
   "source": [
    "# 데이터 학습하기\n",
    "clf = svm.LinearSVC()"
   ]
  },
  {
   "cell_type": "code",
   "execution_count": 50,
   "metadata": {},
   "outputs": [
    {
     "data": {
      "text/plain": [
       "LinearSVC()"
      ]
     },
     "execution_count": 50,
     "metadata": {},
     "output_type": "execute_result"
    }
   ],
   "source": [
    "# 데이터 학습하기\n",
    "clf.fit(train_data, train_label)"
   ]
  },
  {
   "cell_type": "code",
   "execution_count": 51,
   "metadata": {},
   "outputs": [
    {
     "data": {
      "text/plain": [
       "0.9274"
      ]
     },
     "execution_count": 51,
     "metadata": {},
     "output_type": "execute_result"
    }
   ],
   "source": [
    "clf.score(test_data, test_label)"
   ]
  },
  {
   "cell_type": "code",
   "execution_count": 52,
   "metadata": {},
   "outputs": [
    {
     "data": {
      "text/plain": [
       "array(['fat', 'fat', 'normal', ..., 'normal', 'normal', 'normal'],\n",
       "      dtype=object)"
      ]
     },
     "execution_count": 52,
     "metadata": {},
     "output_type": "execute_result"
    }
   ],
   "source": [
    "# 예측하기\n",
    "pred = clf.predict(test_data)\n",
    "pred"
   ]
  },
  {
   "cell_type": "code",
   "execution_count": 53,
   "metadata": {},
   "outputs": [
    {
     "name": "stdout",
     "output_type": "stream",
     "text": [
      "              precision    recall  f1-score   support\n",
      "\n",
      "         fat       0.90      1.00      0.95      1916\n",
      "      normal       1.00      0.76      0.86      1482\n",
      "        thin       0.91      1.00      0.95      1602\n",
      "\n",
      "    accuracy                           0.93      5000\n",
      "   macro avg       0.94      0.92      0.92      5000\n",
      "weighted avg       0.93      0.93      0.92      5000\n",
      "\n"
     ]
    }
   ],
   "source": [
    "# Confusion Matrix 출력하기\n",
    "bmi_report = metrics.classification_report(test_label,pred )\n",
    "print(bmi_report)"
   ]
  },
  {
   "cell_type": "markdown",
   "metadata": {},
   "source": [
    "> 빨라지면서 정확도가 떨어졌지만 데이터가 더 많아지면 정확도는 비슷해짐"
   ]
  }
 ],
 "metadata": {
  "kernelspec": {
   "display_name": "Python 3.9.7 ('base')",
   "language": "python",
   "name": "python3"
  },
  "language_info": {
   "codemirror_mode": {
    "name": "ipython",
    "version": 3
   },
   "file_extension": ".py",
   "mimetype": "text/x-python",
   "name": "python",
   "nbconvert_exporter": "python",
   "pygments_lexer": "ipython3",
   "version": "3.9.7"
  },
  "orig_nbformat": 4,
  "vscode": {
   "interpreter": {
    "hash": "c34e8390e776d2ee205b71ed5a6130fee3cef8da5e87e926ce18e14f4a070d72"
   }
  }
 },
 "nbformat": 4,
 "nbformat_minor": 2
}
