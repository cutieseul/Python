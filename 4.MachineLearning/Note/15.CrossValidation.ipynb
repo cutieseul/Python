{
 "cells": [
  {
   "cell_type": "markdown",
   "metadata": {},
   "source": [
    "# Cross Validation(교차 검증)\n",
    "특정 데이터를 훈련 전용 데이터와 테스트 전용 데이터로 분할한 뒤 훈련데이터를 활용해 학습하고      \n",
    "훈련데이터를 검증데이터로 나누어 반복적인 검증방법을 통해 최적의 값을 유출하고        \n",
    "테스트 데이터로 테스트해서 학습의 타당성을 검증하는 방법입니다."
   ]
  },
  {
   "cell_type": "code",
   "execution_count": 1,
   "metadata": {},
   "outputs": [],
   "source": [
    "import pandas as pd\n",
    "csv = pd.read_csv('../Data/iris.csv')"
   ]
  },
  {
   "cell_type": "code",
   "execution_count": 3,
   "metadata": {},
   "outputs": [],
   "source": [
    "data = csv[['SepalLength','SepalWidth','PetalLength','PetalWidth']]\n",
    "label = csv['Name']"
   ]
  },
  {
   "cell_type": "code",
   "execution_count": 4,
   "metadata": {},
   "outputs": [],
   "source": [
    "from sklearn import svm, model_selection"
   ]
  },
  {
   "cell_type": "code",
   "execution_count": 5,
   "metadata": {},
   "outputs": [],
   "source": [
    "clf = svm.SVC()"
   ]
  },
  {
   "cell_type": "code",
   "execution_count": 11,
   "metadata": {},
   "outputs": [
    {
     "name": "stdout",
     "output_type": "stream",
     "text": [
      "각각의 정답률 :  [0.96 1.   1.   0.92 1.   1.  ]\n"
     ]
    }
   ],
   "source": [
    "# 보통은 10단위 미만으로\n",
    "scores = model_selection.cross_val_score(clf, data, label, cv=6)\n",
    "print('각각의 정답률 : ', scores)"
   ]
  },
  {
   "cell_type": "code",
   "execution_count": 10,
   "metadata": {},
   "outputs": [
    {
     "name": "stdout",
     "output_type": "stream",
     "text": [
      "평균 정답률 : 0.98\n"
     ]
    }
   ],
   "source": [
    "print('평균 정답률 :', scores.mean())"
   ]
  },
  {
   "cell_type": "code",
   "execution_count": null,
   "metadata": {},
   "outputs": [],
   "source": []
  }
 ],
 "metadata": {
  "kernelspec": {
   "display_name": "Python 3.9.7 ('base')",
   "language": "python",
   "name": "python3"
  },
  "language_info": {
   "codemirror_mode": {
    "name": "ipython",
    "version": 3
   },
   "file_extension": ".py",
   "mimetype": "text/x-python",
   "name": "python",
   "nbconvert_exporter": "python",
   "pygments_lexer": "ipython3",
   "version": "3.9.7"
  },
  "orig_nbformat": 4,
  "vscode": {
   "interpreter": {
    "hash": "c34e8390e776d2ee205b71ed5a6130fee3cef8da5e87e926ce18e14f4a070d72"
   }
  }
 },
 "nbformat": 4,
 "nbformat_minor": 2
}
