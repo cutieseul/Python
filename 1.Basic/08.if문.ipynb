{
 "cells": [
  {
   "cell_type": "code",
   "execution_count": 1,
   "metadata": {},
   "outputs": [],
   "source": [
    "from random import randint"
   ]
  },
  {
   "cell_type": "code",
   "execution_count": 2,
   "metadata": {},
   "outputs": [
    {
     "data": {
      "text/plain": [
       "92"
      ]
     },
     "execution_count": 2,
     "metadata": {},
     "output_type": "execute_result"
    }
   ],
   "source": [
    "randint(1,100)"
   ]
  },
  {
   "cell_type": "code",
   "execution_count": 7,
   "metadata": {},
   "outputs": [
    {
     "name": "stdout",
     "output_type": "stream",
     "text": [
      "0보다 큽니다.\n"
     ]
    }
   ],
   "source": [
    "x = randint(1,100)\n",
    "\n",
    "if x > 70:\n",
    "  print(\"70보다 큽니다.\")\n",
    "elif x > 50:\n",
    "  print(\"50보다 큽니다.\")\n",
    "elif x > 30:\n",
    "  print(\"30보다 큽니다\")\n",
    "else:\n",
    "  print(\"0보다 큽니다.\")\n",
    "\n",
    "  "
   ]
  },
  {
   "cell_type": "code",
   "execution_count": 11,
   "metadata": {},
   "outputs": [
    {
     "name": "stdout",
     "output_type": "stream",
     "text": [
      "홀수입니다\n"
     ]
    }
   ],
   "source": [
    "# 홀짝수 구분\n",
    "\n",
    "x = 9 \n",
    "if x%2 == 0:\n",
    "  print(\"짝수입니다\") \n",
    "else:\n",
    "  print(\"홀수입니다\")\n"
   ]
  },
  {
   "cell_type": "code",
   "execution_count": 4,
   "metadata": {},
   "outputs": [
    {
     "name": "stdout",
     "output_type": "stream",
     "text": [
      "짝수입니다\n"
     ]
    }
   ],
   "source": [
    "# 사용자로부터 숫자를 입력 받자!\n",
    "\n",
    "number = int(input(\"숫자를 입력하세요 : \"))\n",
    "type(number)\n",
    "\n",
    "\n",
    "\n",
    "if number%2 == 0:\n",
    "  print(\"짝수입니다\") \n",
    "else:\n",
    "  print(\"홀수입니다\")"
   ]
  },
  {
   "cell_type": "code",
   "execution_count": 6,
   "metadata": {},
   "outputs": [
    {
     "name": "stdout",
     "output_type": "stream",
     "text": [
      "점수는 85 이고 B 학점입니다\n"
     ]
    }
   ],
   "source": [
    "score = int(input(\"점수를 입력하세요 : \"))\n",
    "\n",
    "if score >= 90:\n",
    "  print(\"점수는\",score,\"이고 A 학점입니다\")\n",
    "elif score >= 80:\n",
    "  print(\"점수는\",score,\"이고 B 학점입니다\")\n",
    "elif score >= 70:\n",
    "  print(\"점수는\",score,\"이고 C 학점입니다\")\n",
    "else:\n",
    "  print(\"점수는\",score,\"이고 D 학점입니다\")\n"
   ]
  },
  {
   "cell_type": "code",
   "execution_count": 9,
   "metadata": {},
   "outputs": [
    {
     "name": "stdout",
     "output_type": "stream",
     "text": [
      "50 는 5의 배수이고 제곱근은 7.0710678118654755 이다\n"
     ]
    }
   ],
   "source": [
    "# 사용자로 부터 숫자를 입려받아 5의 배수이면 제곱근을 구하고 그렇지 않으면 원래 수를 출력하기\n",
    "import math\n",
    "score = int(input(\"숫자를 입력하세요 : \"))\n",
    "\n",
    "if score%5 == 0:\n",
    "  print(score,\"는 5의 배수이고 제곱근은\",math.sqrt(score),\"이다\")\n",
    "else:\n",
    "  print(score,\"은 5의 배수가 아니다.\")"
   ]
  },
  {
   "cell_type": "code",
   "execution_count": 10,
   "metadata": {},
   "outputs": [
    {
     "name": "stdout",
     "output_type": "stream",
     "text": [
      "신용카드를 사용한 택시타기\n",
      "---End---\n"
     ]
    }
   ],
   "source": [
    "# list의 내용을 if문으로 확인하기\n",
    "\n",
    "pocket = ['paper', 'smartphone']\n",
    "card = 1\n",
    "# 1 이면 true\n",
    "\n",
    "if 'money' in pocket:\n",
    "  print(\"현금으로 택시타기\")\n",
    "elif card:\n",
    "  print(\"신용카드를 사용한 택시타기\")\n",
    "else: \n",
    "  print(\"튼튼한 다리를 사용!\")\n",
    "\n",
    "print(\"---End---\")"
   ]
  },
  {
   "cell_type": "code",
   "execution_count": 12,
   "metadata": {},
   "outputs": [
    {
     "name": "stdout",
     "output_type": "stream",
     "text": [
      "18\n"
     ]
    }
   ],
   "source": [
    "# 삼항 연산자\n",
    "# 변수 = 참인경우 if(조건문) else(거짓인 경우 )\n",
    "\n",
    "num = 9\n",
    "result = 0\n",
    "\n",
    "result = num * 2 if num >= 5 else num + 2\n",
    "print(result)"
   ]
  },
  {
   "cell_type": "code",
   "execution_count": null,
   "metadata": {},
   "outputs": [],
   "source": []
  }
 ],
 "metadata": {
  "kernelspec": {
   "display_name": "Python 3.9.7 ('base')",
   "language": "python",
   "name": "python3"
  },
  "language_info": {
   "codemirror_mode": {
    "name": "ipython",
    "version": 3
   },
   "file_extension": ".py",
   "mimetype": "text/x-python",
   "name": "python",
   "nbconvert_exporter": "python",
   "pygments_lexer": "ipython3",
   "version": "3.9.7"
  },
  "orig_nbformat": 4,
  "vscode": {
   "interpreter": {
    "hash": "c34e8390e776d2ee205b71ed5a6130fee3cef8da5e87e926ce18e14f4a070d72"
   }
  }
 },
 "nbformat": 4,
 "nbformat_minor": 2
}
