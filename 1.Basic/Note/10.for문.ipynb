{
 "cells": [
  {
   "cell_type": "code",
   "execution_count": 7,
   "metadata": {},
   "outputs": [
    {
     "data": {
      "text/plain": [
       "range(1, 11)"
      ]
     },
     "execution_count": 7,
     "metadata": {},
     "output_type": "execute_result"
    }
   ],
   "source": [
    "range(1,11)"
   ]
  },
  {
   "cell_type": "code",
   "execution_count": 8,
   "metadata": {},
   "outputs": [
    {
     "data": {
      "text/plain": [
       "[1, 2, 3, 4, 5, 6, 7, 8, 9, 10]"
      ]
     },
     "execution_count": 8,
     "metadata": {},
     "output_type": "execute_result"
    }
   ],
   "source": [
    "list(range(1,11))"
   ]
  },
  {
   "cell_type": "code",
   "execution_count": 9,
   "metadata": {},
   "outputs": [
    {
     "data": {
      "text/plain": [
       "[0, 2, 4, 6, 8]"
      ]
     },
     "execution_count": 9,
     "metadata": {},
     "output_type": "execute_result"
    }
   ],
   "source": [
    "# 2씩 증가\n",
    "list(range(0,10,2))\n"
   ]
  },
  {
   "cell_type": "code",
   "execution_count": 10,
   "metadata": {},
   "outputs": [
    {
     "data": {
      "text/plain": [
       "[]"
      ]
     },
     "execution_count": 10,
     "metadata": {},
     "output_type": "execute_result"
    }
   ],
   "source": [
    "# 2씩 감소\n",
    "list(range(0,10,-2))"
   ]
  },
  {
   "cell_type": "code",
   "execution_count": 11,
   "metadata": {},
   "outputs": [
    {
     "name": "stdout",
     "output_type": "stream",
     "text": [
      "1\n",
      "2\n",
      "3\n",
      "4\n",
      "5\n",
      "6\n",
      "7\n",
      "8\n",
      "9\n",
      "10\n"
     ]
    }
   ],
   "source": [
    "for i in range(1,11):\n",
    "  print(i)"
   ]
  },
  {
   "cell_type": "code",
   "execution_count": 15,
   "metadata": {},
   "outputs": [
    {
     "name": "stdout",
     "output_type": "stream",
     "text": [
      "1 : 1.00000000\n",
      "2 : 1.41421356\n",
      "3 : 1.73205081\n",
      "4 : 2.00000000\n",
      "5 : 2.23606798\n",
      "6 : 2.44948974\n",
      "7 : 2.64575131\n",
      "8 : 2.82842712\n",
      "9 : 3.00000000\n",
      "10 : 3.16227766\n"
     ]
    }
   ],
   "source": [
    "# 1에서 10까지의 제곱근을 출력하기\n",
    "import math\n",
    "for i in range(1,11):\n",
    "  print(f\"%d : %0.8f\"%(i,math.sqrt(i)))"
   ]
  },
  {
   "cell_type": "code",
   "execution_count": 23,
   "metadata": {},
   "outputs": [
    {
     "name": "stdout",
     "output_type": "stream",
     "text": [
      "9 X 1 =  9\n",
      "9 X 2 = 18\n",
      "9 X 3 = 27\n",
      "9 X 4 = 36\n",
      "9 X 5 = 45\n",
      "9 X 6 = 54\n",
      "9 X 7 = 63\n",
      "9 X 8 = 72\n",
      "9 X 9 = 81\n"
     ]
    }
   ],
   "source": [
    "# 구구단 출력\n",
    "\n",
    "i = 9\n",
    "for j in range(1,10):\n",
    "  print(i, \"X\", j, \"=\", \"%2d\"%(i*j))"
   ]
  },
  {
   "cell_type": "code",
   "execution_count": 22,
   "metadata": {},
   "outputs": [
    {
     "name": "stdout",
     "output_type": "stream",
     "text": [
      " 2   4   6   8  10  12  14  16  18  \n",
      " 3   6   9  12  15  18  21  24  27  \n",
      " 4   8  12  16  20  24  28  32  36  \n",
      " 5  10  15  20  25  30  35  40  45  \n",
      " 6  12  18  24  30  36  42  48  54  \n",
      " 7  14  21  28  35  42  49  56  63  \n",
      " 8  16  24  32  40  48  56  64  72  \n",
      " 9  18  27  36  45  54  63  72  81  \n"
     ]
    }
   ],
   "source": [
    "# 구구단 결과만 출력하기\n",
    "for i in range(2, 10):\n",
    "  for j in range(1,10):\n",
    "    print(\"%2d\"%(i*j), end='  ')\n",
    "  print()"
   ]
  },
  {
   "cell_type": "code",
   "execution_count": 24,
   "metadata": {},
   "outputs": [
    {
     "name": "stdout",
     "output_type": "stream",
     "text": [
      "1 : 2\n",
      "3 : 4\n",
      "5 : 6\n"
     ]
    }
   ],
   "source": [
    "# for 문에 Tuple 사용하기\n",
    "var = [(1,2), (3,4), (5,6)]\n",
    "\n",
    "for first, last in var:\n",
    "  print(first, \":\", last)"
   ]
  },
  {
   "cell_type": "raw",
   "metadata": {},
   "source": [
    "총 5명의 학생이 시험을 보았는데, 시험점수가 60점을 넘으면 합격이고\n",
    "그렇지 않으면 불합격이다\n",
    "합격, 불합격 보여주기"
   ]
  },
  {
   "cell_type": "code",
   "execution_count": 36,
   "metadata": {},
   "outputs": [
    {
     "name": "stdout",
     "output_type": "stream",
     "text": [
      "1 의 학생은 합격 입니다.\n",
      "2 의 학생은 불합격 입니다.\n",
      "3 의 학생은 합격 입니다.\n",
      "4 의 학생은 불합격 입니다.\n",
      "5 의 학생은 합격 입니다.\n"
     ]
    }
   ],
   "source": [
    "scores = [90,25,67,45,80]\n",
    "\n",
    "for number in range(len(scores)):\n",
    "  if scores[number] > 60:\n",
    "    print(number+1 ,\"의 학생은 합격 입니다.\")\n",
    "  else:\n",
    "    print(number+1 ,\"의 학생은 불합격 입니다.\")\n",
    "  \n",
    "\n",
    "\n"
   ]
  },
  {
   "cell_type": "code",
   "execution_count": 52,
   "metadata": {},
   "outputs": [
    {
     "name": "stdout",
     "output_type": "stream",
     "text": [
      "1 의 학생은 합격입니다\n",
      "2 의 학생은 불합격입니다\n",
      "3 의 학생은 합격입니다\n",
      "4 의 학생은 불합격입니다\n",
      "5 의 학생은 합격입니다\n"
     ]
    }
   ],
   "source": [
    "scores = [90,25,67,45,80]\n",
    "number = 0\n",
    "\n",
    "for score in scores: \n",
    " print(number+1,\"의 학생은 합격입니다\") if score > 60 \\\n",
    " else print(number+1,\"의 학생은 불합격입니다\")\n",
    " number += 1 \n",
    "    "
   ]
  },
  {
   "cell_type": "code",
   "execution_count": 46,
   "metadata": {},
   "outputs": [
    {
     "name": "stdout",
     "output_type": "stream",
     "text": [
      "1 의 학생은 점수가 90 점 이므로 합격 입니다.\n",
      "2 의 학생은 점수가 25 점 이어서 불합격 입니다.\n",
      "3 의 학생은 점수가 67 점 이므로 합격 입니다.\n",
      "4 의 학생은 점수가 45 점 이어서 불합격 입니다.\n",
      "5 의 학생은 점수가 80 점 이므로 합격 입니다.\n"
     ]
    }
   ],
   "source": [
    "scores = [90,25,67,45,80]\n",
    "\n",
    "for number in range(len(scores)):\n",
    "  if scores[number] > 60:\n",
    "    print(number+1 ,\"의 학생은 점수가\",scores[number],\"점 이므로 합격 입니다.\")\n",
    "  else:\n",
    "    print(number+1 ,\"의 학생은 점수가\",scores[number],\"점 이어서 불합격 입니다.\")"
   ]
  },
  {
   "cell_type": "raw",
   "metadata": {},
   "source": [
    "학생들 점수의 평균을 구하여 평균점수보다 낮으면 불합격\n",
    "평균점수보다 같거나 높으면 합격을 보여주기"
   ]
  },
  {
   "cell_type": "code",
   "execution_count": 62,
   "metadata": {},
   "outputs": [
    {
     "name": "stdout",
     "output_type": "stream",
     "text": [
      "학급의 평균 점수는 61.4 입니다\n",
      "\n",
      "1 의 학생은 점수가 90 이므로 합격 입니다\n",
      "2 의 학생은 점수가 25 이어서 불합격 입니다\n",
      "3 의 학생은 점수가 67 이므로 합격 입니다\n",
      "4 의 학생은 점수가 45 이어서 불합격 입니다\n",
      "5 의 학생은 점수가 80 이므로 합격 입니다\n"
     ]
    }
   ],
   "source": [
    "import numpy as np\n",
    "scores = [90,25,67,45,80]\n",
    "avg = np.mean(scores)\n",
    "number = 1\n",
    "print(\"학급의 평균 점수는\",avg,\"입니다\\n\")\n",
    "\n",
    "for score in scores: \n",
    " print(number,\"의 학생은 점수가\",score,\"이므로 합격 입니다\") if score > avg \\\n",
    " else print(number,\"의 학생은 점수가\",score,\"이어서 불합격 입니다\")\n",
    " number += 1 "
   ]
  },
  {
   "cell_type": "code",
   "execution_count": 64,
   "metadata": {},
   "outputs": [
    {
     "name": "stdout",
     "output_type": "stream",
     "text": [
      "1 의 학생은 합격 입니다\n",
      "3 의 학생은 합격 입니다\n",
      "5 의 학생은 합격 입니다\n"
     ]
    }
   ],
   "source": [
    "# 합격생 만 보여주기\n",
    "\n",
    "import numpy as np\n",
    "scores = [90,25,67,45,80]\n",
    "avg = np.mean(scores)\n",
    "number = 1\n",
    "\n",
    "for score in scores: \n",
    " if score > avg:\n",
    "  print(number,\"의 학생은 합격 입니다\") \n",
    " number += 1 "
   ]
  },
  {
   "cell_type": "code",
   "execution_count": 91,
   "metadata": {},
   "outputs": [
    {
     "name": "stdout",
     "output_type": "stream",
     "text": [
      "합격자 번호\n",
      "---------\n",
      "    1     \n",
      "    3     \n",
      "    5     \n"
     ]
    }
   ],
   "source": [
    "# 합격자 번호만 보여주기\n",
    "\n",
    "import numpy as np\n",
    "print(\"합격자 번호\")\n",
    "print(\"---------\")\n",
    "scores = [90,25,67,45,80]\n",
    "avg = np.mean(scores)\n",
    "number = 1\n",
    "for score in scores: \n",
    " if score > avg:\n",
    "  print('{0:^10}'.format(number))\n",
    "  # print(\"%5s\"%number)\n",
    " number += 1 "
   ]
  },
  {
   "cell_type": "markdown",
   "metadata": {},
   "source": [
    "-----"
   ]
  },
  {
   "cell_type": "markdown",
   "metadata": {},
   "source": [
    "# 문장과 단어 추출"
   ]
  },
  {
   "cell_type": "code",
   "execution_count": 92,
   "metadata": {},
   "outputs": [],
   "source": [
    "string = \"\"\"나는 홍길동 입니다.\n",
    "주소는 서울시 입니다.\n",
    "나이는 35세 입니다.\"\"\""
   ]
  },
  {
   "cell_type": "code",
   "execution_count": 93,
   "metadata": {},
   "outputs": [
    {
     "data": {
      "text/plain": [
       "'나는 홍길동 입니다.\\n주소는 서울시 입니다.\\n나이는 35세 입니다.'"
      ]
     },
     "execution_count": 93,
     "metadata": {},
     "output_type": "execute_result"
    }
   ],
   "source": [
    "string"
   ]
  },
  {
   "cell_type": "code",
   "execution_count": 96,
   "metadata": {},
   "outputs": [
    {
     "name": "stdout",
     "output_type": "stream",
     "text": [
      "['나는 홍길동 입니다.', '주소는 서울시 입니다.', '나이는 35세 입니다.']\n",
      "['나는', '홍길동', '입니다.', '주소는', '서울시', '입니다.', '나이는', '35세', '입니다.']\n"
     ]
    }
   ],
   "source": [
    "sents = [] # 문장 저장\n",
    "words = [] # 단어 저장\n",
    "\n",
    "# 문단 -> 문장\n",
    "for sen in string.split('\\n'):\n",
    "  sents.append(sen)\n",
    "  # 문장 -> 단어\n",
    "  for word in sen.split():\n",
    "    words.append(word)\n",
    "\n",
    "print(sents)\n",
    "print(words)"
   ]
  },
  {
   "cell_type": "code",
   "execution_count": 98,
   "metadata": {},
   "outputs": [
    {
     "data": {
      "text/plain": [
       "[5, 10, 15, 20]"
      ]
     },
     "execution_count": 98,
     "metadata": {},
     "output_type": "execute_result"
    }
   ],
   "source": [
    "var01 = [1,2,3,4]\n",
    "var02 = []\n",
    "# var02 에 vqr01의 인덱스 번호에 각각 5를 곱하여 출력하기\n",
    "\n",
    "for i in var01:\n",
    "  var02.append(i * 5)\n",
    "\n",
    "var02"
   ]
  },
  {
   "cell_type": "code",
   "execution_count": 99,
   "metadata": {},
   "outputs": [],
   "source": [
    "# 파이썬의 listed for 문"
   ]
  },
  {
   "cell_type": "code",
   "execution_count": 100,
   "metadata": {},
   "outputs": [
    {
     "data": {
      "text/plain": [
       "[5, 10, 15, 20]"
      ]
     },
     "execution_count": 100,
     "metadata": {},
     "output_type": "execute_result"
    }
   ],
   "source": [
    "var01 = [1,2,3,4]\n",
    "var02 = [i*5 for i in var01]\n",
    "var02"
   ]
  },
  {
   "cell_type": "code",
   "execution_count": 116,
   "metadata": {},
   "outputs": [
    {
     "data": {
      "text/plain": [
       "[10, 20]"
      ]
     },
     "execution_count": 116,
     "metadata": {},
     "output_type": "execute_result"
    }
   ],
   "source": [
    "# var01의 데이터가 짝수인 경우에만 5를 곱하여 var02 list 만들기\n",
    "var01 = [1,2,3,4]\n",
    "var02 = [i*5 for i in var01 if i%2==0]\n",
    "var02"
   ]
  },
  {
   "cell_type": "code",
   "execution_count": 110,
   "metadata": {},
   "outputs": [
    {
     "name": "stdout",
     "output_type": "stream",
     "text": [
      "[2, 4, 6, 8, 10, 12, 14, 16, 18, 3, 6, 9, 12, 15, 18, 21, 24, 27, 4, 8, 12, 16, 20, 24, 28, 32, 36, 5, 10, 15, 20, 25, 30, 35, 40, 45, 6, 12, 18, 24, 30, 36, 42, 48, 54, 7, 14, 21, 28, 35, 42, 49, 56, 63, 8, 16, 24, 32, 40, 48, 56, 64, 72, 9, 18, 27, 36, 45, 54, 63, 72, 81]\n"
     ]
    }
   ],
   "source": [
    "# 구구단 결과만 출력하기\n",
    "var02 = [(i*j) for i in range(2, 10) for j in range(1,10)]\n",
    "print(var02)"
   ]
  },
  {
   "cell_type": "code",
   "execution_count": 113,
   "metadata": {},
   "outputs": [
    {
     "name": "stdout",
     "output_type": "stream",
     "text": [
      "합격한 학생들의 평균 점수는 79.0 입니다\n"
     ]
    }
   ],
   "source": [
    "# 60점 이상의 학생 점수만 List로 만들어서 평균 출력하기(listed fo문 사용)\n",
    "scores = [90,25,67,45,80]\n",
    "good = [i for i in scores if i >=60]\n",
    "print(\"합격한 학생들의 평균 점수는\",np.mean(good),\"입니다\")"
   ]
  },
  {
   "cell_type": "code",
   "execution_count": null,
   "metadata": {},
   "outputs": [],
   "source": []
  }
 ],
 "metadata": {
  "kernelspec": {
   "display_name": "Python 3.9.7 ('base')",
   "language": "python",
   "name": "python3"
  },
  "language_info": {
   "codemirror_mode": {
    "name": "ipython",
    "version": 3
   },
   "file_extension": ".py",
   "mimetype": "text/x-python",
   "name": "python",
   "nbconvert_exporter": "python",
   "pygments_lexer": "ipython3",
   "version": "3.9.7"
  },
  "orig_nbformat": 4,
  "vscode": {
   "interpreter": {
    "hash": "c34e8390e776d2ee205b71ed5a6130fee3cef8da5e87e926ce18e14f4a070d72"
   }
  }
 },
 "nbformat": 4,
 "nbformat_minor": 2
}
